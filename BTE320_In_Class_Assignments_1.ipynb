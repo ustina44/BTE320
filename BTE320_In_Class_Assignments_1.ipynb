{
  "cells": [
    {
      "cell_type": "markdown",
      "metadata": {
        "id": "view-in-github",
        "colab_type": "text"
      },
      "source": [
        "<a href=\"https://colab.research.google.com/github/ustina44/BTE320/blob/main/BTE320_In_Class_Assignments_1.ipynb\" target=\"_parent\"><img src=\"https://colab.research.google.com/assets/colab-badge.svg\" alt=\"Open In Colab\"/></a>"
      ]
    },
    {
      "cell_type": "code",
      "execution_count": null,
      "metadata": {
        "id": "PXwATtLCyh3I"
      },
      "outputs": [],
      "source": []
    },
    {
      "cell_type": "markdown",
      "metadata": {
        "id": "kT9lP4CTymNN"
      },
      "source": [
        "8/27\n",
        "\n",
        "Surface area of a cylinder"
      ]
    },
    {
      "cell_type": "code",
      "execution_count": null,
      "metadata": {
        "colab": {
          "base_uri": "https://localhost:8080/"
        },
        "id": "LsZId9nEy0bt",
        "outputId": "68eed477-f90b-41da-860b-d09e8d024729"
      },
      "outputs": [
        {
          "name": "stdout",
          "output_type": "stream",
          "text": [
            "244.92000000000002\n"
          ]
        }
      ],
      "source": [
        "r = 3\n",
        "h = 10\n",
        "pi = 3.14\n",
        "\n",
        "area = 2 * pi * r ** 2 + 2 * pi * r * h\n",
        "print(area)"
      ]
    },
    {
      "cell_type": "markdown",
      "metadata": {
        "id": "0okeNGgdSgJA"
      },
      "source": [
        "9/5\n",
        "\n",
        "Game of rock, paper, scissors"
      ]
    },
    {
      "cell_type": "code",
      "execution_count": null,
      "metadata": {
        "colab": {
          "base_uri": "https://localhost:8080/"
        },
        "id": "_k9TQRRkSsLc",
        "outputId": "67d1693d-5d17-4fd7-8e09-8495fdc076c5"
      },
      "outputs": [
        {
          "name": "stdout",
          "output_type": "stream",
          "text": [
            "Choose rock, paper, scissors:r\n",
            "Choose rock, paper, scissors:s\n",
            "P1 wins\n"
          ]
        }
      ],
      "source": [
        "p1 = input('Choose rock, paper, scissors:')\n",
        "p2 = input('Choose rock, paper, scissors:')\n",
        "\n",
        "if (p1==p2):\n",
        "  print ('Draw')\n",
        "elif(p1 =='r' and p2 == 's') or (p1 == 's' and p2 == 'p') or (p1 == 'p' and p2 == 'r'):\n",
        "  print('P1 wins')\n",
        "elif(p1 == 's' and p2 == 'r') or (p1 == 'p' and p2 == 's') or (p1 == 'r' and p2 == 'p'):\n",
        "  print('P2 wins')\n"
      ]
    },
    {
      "cell_type": "code",
      "execution_count": null,
      "metadata": {
        "colab": {
          "base_uri": "https://localhost:8080/"
        },
        "id": "m-ObrDaz3gdB",
        "outputId": "c8bb8161-7b07-4427-f13c-e9b067726045"
      },
      "outputs": [
        {
          "name": "stdout",
          "output_type": "stream",
          "text": [
            "Choose rock, paper, scissors:r\n",
            "Choose rock, paper, scissors:s\n",
            "P1 wins\n"
          ]
        }
      ],
      "source": [
        "p1 = input('Choose rock, paper, scissors:')\n",
        "p2 = input('Choose rock, paper, scissors:')\n",
        "\n",
        "if (p1==p2):\n",
        "  print ('Draw')\n",
        "elif(p1 =='r' and p2 == 's') or (p1 == 's' and p2 == 'p') or (p1 == 'p' and p2 == 'r'):\n",
        "  print('P1 wins')\n",
        "else:\n",
        "  print('P2 wins')"
      ]
    },
    {
      "cell_type": "code",
      "source": [
        "c = input('Do you want to play a game? ')\n",
        "\n",
        "while c == 'yes':\n",
        "  p1 = input('Choose rock, paper, scissors: ')\n",
        "  p2 = input('Choose rock, paper, scissors: ')\n",
        "\n",
        "  if (p1==p2):\n",
        "    print ('Draw')\n",
        "  elif(p1 =='r' and p2 == 's') or (p1 == 's' and p2 == 'p') or (p1 == 'p' and p2 == 'r'):\n",
        "    print('P1 wins')\n",
        "  else:\n",
        "    print('P2 wins')\n",
        "\n",
        "  c = input('Do you want to play a game? ')"
      ],
      "metadata": {
        "colab": {
          "base_uri": "https://localhost:8080/"
        },
        "id": "RKzeNg8d9LIN",
        "outputId": "6d5b3ba1-1a1f-4a6e-fc7b-84b855b715bf"
      },
      "execution_count": null,
      "outputs": [
        {
          "name": "stdout",
          "output_type": "stream",
          "text": [
            "Do you want to play a game? yes\n",
            "Choose rock, paper, scissors: r\n",
            "Choose rock, paper, scissors: s\n",
            "P1 wins\n",
            "Do you want to play a game? no\n"
          ]
        }
      ]
    },
    {
      "cell_type": "markdown",
      "source": [
        "Writing a rock, paper, scissors game playing against computer"
      ],
      "metadata": {
        "id": "plsVK-n3DqTK"
      }
    },
    {
      "cell_type": "code",
      "source": [
        "import random\n",
        "\n",
        "c = input('Do you want to play a game? ')\n",
        "\n",
        "while c == 'yes':\n",
        "  p1 = input('Choose rock, paper, scissors: ')\n",
        "  p2 = random.choice(['rock','paper','scissors'])\n",
        "\n",
        "  print(f'Computer chose {p2}')\n",
        "\n",
        "  if (p1==p2):\n",
        "    print ('Draw')\n",
        "  elif(p1 =='r' and p2 == 's') or (p1 == 's' and p2 == 'p') or (p1 == 'p' and p2 == 'r'):\n",
        "    print('You win!')\n",
        "  else:\n",
        "    print('Computer wins!')\n",
        "\n",
        "  c = input('Do you want to play another game? ')\n",
        "print('Have a nice day!')"
      ],
      "metadata": {
        "colab": {
          "base_uri": "https://localhost:8080/"
        },
        "id": "CSEUs_XUCZyF",
        "outputId": "41a1b266-7b3d-4354-8212-709c6937a4ac"
      },
      "execution_count": null,
      "outputs": [
        {
          "output_type": "stream",
          "name": "stdout",
          "text": [
            "Do you want to play a game? yes\n",
            "Choose rock, paper, scissors: p\n",
            "Computer chose rock\n",
            "Computer wins!\n",
            "Do you want to play another game? no\n",
            "Have a nice day!\n"
          ]
        }
      ]
    },
    {
      "cell_type": "markdown",
      "metadata": {
        "id": "bJFRSa5R4pb-"
      },
      "source": [
        "9/10\n",
        "\n",
        "Creating a program that is a numerical calculator"
      ]
    },
    {
      "cell_type": "code",
      "execution_count": null,
      "metadata": {
        "colab": {
          "base_uri": "https://localhost:8080/"
        },
        "id": "2kWbnLij4snm",
        "outputId": "9ecc6705-7d1c-465f-eb8d-61eb211204aa"
      },
      "outputs": [
        {
          "output_type": "stream",
          "name": "stdout",
          "text": [
            "Input number:3\n",
            "Input number:4\n",
            "Choose operator (+, -, *, /, **, %): +\n",
            "n1 + n2 = 7.0\n"
          ]
        }
      ],
      "source": [
        "n1 = float(input('Input number:'))\n",
        "n2 = float(input('Input number:'))\n",
        "symbol = input('Choose operator (+, -, *, /, **, %): ')\n",
        "\n",
        "if(symbol == '+'):\n",
        "  print(f'n1 + n2 = {n1+n2}')\n",
        "elif(symbol == '-'):\n",
        "  print(f'n1 - n2 = {n1-n2}')\n",
        "elif(symbol == '/'):\n",
        "  print(f'n1 / n2 = {n1/n2}')\n",
        "elif(symbol == '*'):\n",
        "  print(f'n1 * n2 = {n1*n2}')\n",
        "elif(symbol == '//'):\n",
        "  print(f'n1 // n2 = {n1//n2}')\n",
        "elif(symbol == '**'):\n",
        "  print(f'n1 ** n2 = {n1**n2}')\n",
        "elif(symbol == '%'):\n",
        "  print(f'n1 % n2 = {n1%n2}')\n",
        "else:\n",
        "  print('Error')\n"
      ]
    },
    {
      "cell_type": "markdown",
      "source": [
        "9/17\n",
        "\n",
        "Parking garage problem"
      ],
      "metadata": {
        "id": "UsHWctCFDvZI"
      }
    },
    {
      "cell_type": "code",
      "source": [
        "flat = 5\n",
        "\n",
        "for t in range (1,9,1):\n",
        "  charge = flat + 2.5 * t\n",
        "  if charge < 10:\n",
        "    charge = 10\n",
        "  elif charge > 20:\n",
        "    charge = 20\n",
        "  print(t, charge)"
      ],
      "metadata": {
        "colab": {
          "base_uri": "https://localhost:8080/"
        },
        "id": "FLrVZBTTDzY6",
        "outputId": "2dbb8eb4-cffc-4535-f60c-a0aba80ce50f"
      },
      "execution_count": null,
      "outputs": [
        {
          "output_type": "stream",
          "name": "stdout",
          "text": [
            "1 10\n",
            "2 10.0\n",
            "3 12.5\n",
            "4 15.0\n",
            "5 17.5\n",
            "6 20.0\n",
            "7 20\n",
            "8 20\n"
          ]
        }
      ]
    },
    {
      "cell_type": "markdown",
      "source": [
        "9/19\n",
        "\n",
        "Movie theatre"
      ],
      "metadata": {
        "id": "11r5cmW7OjX7"
      }
    },
    {
      "cell_type": "code",
      "source": [
        "ticket = 10\n",
        "attendees = 20\n",
        "fixed_cost = 200\n",
        "\n",
        "for i in range(0,201,25):\n",
        "  profit = ticket * (attendees + 2 * round(i ** 0.5)) - fixed_cost - i\n",
        "  print(i, profit)"
      ],
      "metadata": {
        "colab": {
          "base_uri": "https://localhost:8080/"
        },
        "id": "XocRJCUaROVG",
        "outputId": "d7bf5c67-b075-4eec-863d-8cf4c93fa25b"
      },
      "execution_count": null,
      "outputs": [
        {
          "output_type": "stream",
          "name": "stdout",
          "text": [
            "0 0\n",
            "25 75\n",
            "50 90\n",
            "75 105\n",
            "100 100\n",
            "125 95\n",
            "150 90\n",
            "175 85\n",
            "200 80\n"
          ]
        }
      ]
    },
    {
      "cell_type": "markdown",
      "source": [
        "9/26\n",
        "\n",
        "User program to add numbers to a list and stop when user enters zero"
      ],
      "metadata": {
        "id": "foEdGxVuVzE7"
      }
    },
    {
      "cell_type": "code",
      "source": [
        "numbers = []\n",
        "\n",
        "while True:\n",
        "  L = input('Enter number: ')\n",
        "  if L == '0':\n",
        "    break\n",
        "  else:\n",
        "    numbers.append(int(L))\n",
        "\n",
        "print(numbers)"
      ],
      "metadata": {
        "colab": {
          "base_uri": "https://localhost:8080/"
        },
        "id": "skVkpTMBV3cg",
        "outputId": "5480d46d-c822-4ace-878c-67937e9e2e3f"
      },
      "execution_count": null,
      "outputs": [
        {
          "output_type": "stream",
          "name": "stdout",
          "text": [
            "Enter number: 4\n",
            "Enter number: 4\n",
            "Enter number: 0\n",
            "[4, 4]\n"
          ]
        }
      ]
    },
    {
      "cell_type": "markdown",
      "source": [
        "10/1\n",
        "\n",
        "Assigning numbers to names of months"
      ],
      "metadata": {
        "id": "vr0L4yHpFnTN"
      }
    },
    {
      "cell_type": "code",
      "source": [
        "months = {}\n",
        "\n",
        "names = ['Jan', 'Feb', 'Mar', 'Apr', 'May', 'Jun', 'Jul', 'Aug', 'Sep', 'Oct', 'Nov', 'Dec']\n",
        "numbers = [1, 2, 3, 4, 5, 6, 7, 8, 9, 10, 11, 12]\n",
        "\n",
        "for i in range(len(numbers)):\n",
        "  months[numbers[i]] = names[i]\n",
        "\n",
        "months"
      ],
      "metadata": {
        "colab": {
          "base_uri": "https://localhost:8080/"
        },
        "id": "N23-7IygLAT5",
        "outputId": "b477a482-2af2-4d35-ebe3-00f7b2368786"
      },
      "execution_count": null,
      "outputs": [
        {
          "output_type": "execute_result",
          "data": {
            "text/plain": [
              "{1: 'Jan',\n",
              " 2: 'Feb',\n",
              " 3: 'Mar',\n",
              " 4: 'Apr',\n",
              " 5: 'May',\n",
              " 6: 'Jun',\n",
              " 7: 'Jul',\n",
              " 8: 'Aug',\n",
              " 9: 'Sep',\n",
              " 10: 'Oct',\n",
              " 11: 'Nov',\n",
              " 12: 'Dec'}"
            ]
          },
          "metadata": {},
          "execution_count": 44
        }
      ]
    },
    {
      "cell_type": "markdown",
      "source": [
        "10/10\n",
        "\n",
        "House hunting assignment (not done)"
      ],
      "metadata": {
        "id": "UcyLjoyTPea5"
      }
    },
    {
      "cell_type": "code",
      "source": [
        "def calculate_months_to_save(annual_salary, portion_saved, total_cost):\n",
        "    portion_down_payment = 0.25\n",
        "    current_savings = 0\n",
        "    r = 0.04\n",
        "\n",
        "    down_payment = portion_down_payment * total_cost\n",
        "\n",
        "    monthly_salary = annual_salary / 12\n",
        "    months = 0\n",
        "\n",
        "    while current_savings < down_payment:\n",
        "        current_savings += current_savings * r / 12 + portion_saved * monthly_salary\n",
        "        months += 1\n",
        "\n",
        "    return months\n",
        "\n",
        "annual_salary = float(input(\"Enter your annual salary: \"))\n",
        "portion_saved = float(input(\"Enter the percent of your salary to save, as a decimal: \"))\n",
        "total_cost = float(input(\"Enter the cost of your dream home: \"))\n",
        "\n",
        "months_needed = calculate_months_to_save(annual_salary, portion_saved, total_cost)\n",
        "\n",
        "print(f\"Number of months: {months_needed}\")"
      ],
      "metadata": {
        "colab": {
          "base_uri": "https://localhost:8080/"
        },
        "id": "ivn1ie1lgf5D",
        "outputId": "6634c7f8-60ae-4994-ffaa-a5c4b5101fcd"
      },
      "execution_count": null,
      "outputs": [
        {
          "output_type": "stream",
          "name": "stdout",
          "text": [
            "Enter your annual salary: 120000\n",
            "Enter the percent of your salary to save, as a decimal: 0.1\n",
            "Enter the cost of your dream home: 1000000\n",
            "Number of months: 183\n"
          ]
        }
      ]
    },
    {
      "cell_type": "markdown",
      "source": [
        "10/22\n",
        "\n",
        "Parking garage assignment (cont.)"
      ],
      "metadata": {
        "id": "s-qPXii4NJ19"
      }
    },
    {
      "cell_type": "code",
      "source": [
        "def calcFee(hours): # the code doesn't read what's under the def function unless it's called\n",
        "  fee = 5 + hours * 2.5\n",
        "  return fee\n",
        "\n",
        "h = int(input('Enter number of hours parked: '))\n",
        "fee = calcFee(h)\n",
        "print(fee)"
      ],
      "metadata": {
        "colab": {
          "base_uri": "https://localhost:8080/"
        },
        "id": "BxbRlpnDQGss",
        "outputId": "185aa1bf-0496-4940-c7fa-e0db8516c017"
      },
      "execution_count": null,
      "outputs": [
        {
          "output_type": "stream",
          "name": "stdout",
          "text": [
            "Enter number of hours parked: 4\n",
            "15.0\n"
          ]
        }
      ]
    },
    {
      "cell_type": "code",
      "source": [
        "def calcFee(hours, decimals = 2): # can switch block 1 and 2 around\n",
        "  fee = 5 + hours * 2.5\n",
        "  fee = round(fee, decimals)\n",
        "  return fee\n",
        "\n",
        "def displayFee(fee):\n",
        "  print(fee)\n",
        "\n",
        "h = int(input('Enter number of hours parked: '))\n",
        "fee = calcFee(h)\n",
        "displayFee(fee)"
      ],
      "metadata": {
        "colab": {
          "base_uri": "https://localhost:8080/"
        },
        "id": "1SOSg1vzSiRr",
        "outputId": "922d888f-da61-42bb-fac9-a539da689d78"
      },
      "execution_count": null,
      "outputs": [
        {
          "output_type": "stream",
          "name": "stdout",
          "text": [
            "Enter number of hours parked: 4\n",
            "15.0\n"
          ]
        }
      ]
    },
    {
      "cell_type": "markdown",
      "source": [
        "10/29\n",
        "Using recursion to write \"Hello\" backwards"
      ],
      "metadata": {
        "id": "3QHLpEfGVnBD"
      }
    },
    {
      "cell_type": "code",
      "source": [
        "def res(s):\n",
        "    if len(s) == 1:\n",
        "      return s\n",
        "    else:\n",
        "      return s[-1] + res(s[:-1])\n",
        "\n",
        "print(res(\"Hello\"))"
      ],
      "metadata": {
        "colab": {
          "base_uri": "https://localhost:8080/"
        },
        "id": "uAeA8q14WcE1",
        "outputId": "0d6f383b-a792-4afa-effb-b3d87f6cf25c"
      },
      "execution_count": null,
      "outputs": [
        {
          "output_type": "stream",
          "name": "stdout",
          "text": [
            "olleH\n"
          ]
        }
      ]
    },
    {
      "cell_type": "markdown",
      "source": [
        "11/7\n",
        "\n"
      ],
      "metadata": {
        "id": "tFARR82994Bq"
      }
    },
    {
      "cell_type": "code",
      "source": [
        "def wAvg(L,W):\n",
        "  res = []\n",
        "  try:\n",
        "    for i in range(len(L)):\n",
        "      res. append (L[1] * W[i])\n",
        "    return sum(res) / sum(W)\n",
        "  except ZeroDivisionError:\n",
        "    print(\"Division by zero\")\n",
        "    return []\n",
        "  except TypeError:\n",
        "    print (\"Non-numerical objects found\")\n",
        "    return []\n",
        "  except Exception as e:\n",
        "    print (f'unknown error: {e}')\n",
        "    return float ('nan')\n",
        "\n",
        "L = [1,2,3]\n",
        "W = [.2, 0, -.21]\n",
        "print(wAvg (L,W))"
      ],
      "metadata": {
        "colab": {
          "base_uri": "https://localhost:8080/"
        },
        "id": "yv-Je4aO96EE",
        "outputId": "228b192f-ccfb-463b-8035-267f5503244c"
      },
      "execution_count": 1,
      "outputs": [
        {
          "output_type": "stream",
          "name": "stdout",
          "text": [
            "2.0\n"
          ]
        }
      ]
    }
  ],
  "metadata": {
    "colab": {
      "provenance": [],
      "authorship_tag": "ABX9TyMn79JeEvsAbE/B00H57iPL",
      "include_colab_link": true
    },
    "kernelspec": {
      "display_name": "Python 3",
      "name": "python3"
    },
    "language_info": {
      "name": "python"
    }
  },
  "nbformat": 4,
  "nbformat_minor": 0
}