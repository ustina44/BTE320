{
  "cells": [
    {
      "cell_type": "markdown",
      "metadata": {
        "id": "view-in-github",
        "colab_type": "text"
      },
      "source": [
        "<a href=\"https://colab.research.google.com/github/ustina44/BTE320/blob/main/BTE320_In_Class_Assignments.ipynb\" target=\"_parent\"><img src=\"https://colab.research.google.com/assets/colab-badge.svg\" alt=\"Open In Colab\"/></a>"
      ]
    },
    {
      "cell_type": "code",
      "execution_count": null,
      "metadata": {
        "id": "PXwATtLCyh3I"
      },
      "outputs": [],
      "source": []
    },
    {
      "cell_type": "markdown",
      "metadata": {
        "id": "kT9lP4CTymNN"
      },
      "source": [
        "8/27\n",
        "\n",
        "Surface area of a cylinder: 2pir^2 + 2pirh\n",
        "\n"
      ]
    },
    {
      "cell_type": "code",
      "execution_count": null,
      "metadata": {
        "colab": {
          "base_uri": "https://localhost:8080/"
        },
        "id": "LsZId9nEy0bt",
        "outputId": "68eed477-f90b-41da-860b-d09e8d024729"
      },
      "outputs": [
        {
          "name": "stdout",
          "output_type": "stream",
          "text": [
            "244.92000000000002\n"
          ]
        }
      ],
      "source": [
        "r = 3\n",
        "h = 10\n",
        "pi = 3.14\n",
        "\n",
        "area = 2 * pi * r ** 2 + 2 * pi * r * h\n",
        "print(area)"
      ]
    },
    {
      "cell_type": "markdown",
      "metadata": {
        "id": "0okeNGgdSgJA"
      },
      "source": [
        "9/5 and 9/10\n",
        "Designing a game of rock, paper, scissors"
      ]
    },
    {
      "cell_type": "code",
      "execution_count": null,
      "metadata": {
        "colab": {
          "base_uri": "https://localhost:8080/"
        },
        "id": "_k9TQRRkSsLc",
        "outputId": "67d1693d-5d17-4fd7-8e09-8495fdc076c5"
      },
      "outputs": [
        {
          "name": "stdout",
          "output_type": "stream",
          "text": [
            "Choose rock, paper, scissors:r\n",
            "Choose rock, paper, scissors:s\n",
            "P1 wins\n"
          ]
        }
      ],
      "source": [
        "p1 = input('Choose rock, paper, scissors:')\n",
        "p2 = input('Choose rock, paper, scissors:')\n",
        "\n",
        "if (p1==p2):\n",
        "  print ('Draw')\n",
        "elif(p1 =='r' and p2 == 's') or (p1 == 's' and p2 == 'p') or (p1 == 'p' and p2 == 'r'):\n",
        "  print('P1 wins')\n",
        "elif(p1 == 's' and p2 == 'r') or (p1 == 'p' and p2 == 's') or (p1 == 'r' and p2 == 'p'):\n",
        "  print('P2 wins')\n"
      ]
    },
    {
      "cell_type": "code",
      "execution_count": null,
      "metadata": {
        "colab": {
          "base_uri": "https://localhost:8080/"
        },
        "id": "m-ObrDaz3gdB",
        "outputId": "c8bb8161-7b07-4427-f13c-e9b067726045"
      },
      "outputs": [
        {
          "name": "stdout",
          "output_type": "stream",
          "text": [
            "Choose rock, paper, scissors:r\n",
            "Choose rock, paper, scissors:s\n",
            "P1 wins\n"
          ]
        }
      ],
      "source": [
        "p1 = input('Choose rock, paper, scissors:')\n",
        "p2 = input('Choose rock, paper, scissors:')\n",
        "\n",
        "if (p1==p2):\n",
        "  print ('Draw')\n",
        "elif(p1 =='r' and p2 == 's') or (p1 == 's' and p2 == 'p') or (p1 == 'p' and p2 == 'r'):\n",
        "  print('P1 wins')\n",
        "else:\n",
        "  print('P2 wins')"
      ]
    },
    {
      "cell_type": "markdown",
      "metadata": {
        "id": "bJFRSa5R4pb-"
      },
      "source": [
        "9/10\n",
        "Creating a program that is a numerical calculator"
      ]
    },
    {
      "cell_type": "code",
      "execution_count": 2,
      "metadata": {
        "colab": {
          "base_uri": "https://localhost:8080/"
        },
        "id": "2kWbnLij4snm",
        "outputId": "9ecc6705-7d1c-465f-eb8d-61eb211204aa"
      },
      "outputs": [
        {
          "output_type": "stream",
          "name": "stdout",
          "text": [
            "Input number:3\n",
            "Input number:4\n",
            "Choose operator (+, -, *, /, **, %): +\n",
            "n1 + n2 = 7.0\n"
          ]
        }
      ],
      "source": [
        "n1 = float(input('Input number:'))\n",
        "n2 = float(input('Input number:'))\n",
        "symbol = input('Choose operator (+, -, *, /, **, %): ')\n",
        "\n",
        "if(symbol == '+'):\n",
        "  print(f'n1 + n2 = {n1+n2}')\n",
        "elif(symbol == '-'):\n",
        "  print(f'n1 - n2 = {n1-n2}')\n",
        "elif(symbol == '/'):\n",
        "  print(f'n1 / n2 = {n1/n2}')\n",
        "elif(symbol == '*'):\n",
        "  print(f'n1 * n2 = {n1*n2}')\n",
        "elif(symbol == '//'):\n",
        "  print(f'n1 // n2 = {n1//n2}')\n",
        "elif(symbol == '**'):\n",
        "  print(f'n1 ** n2 = {n1**n2}')\n",
        "elif(symbol == '%'):\n",
        "  print(f'n1 % n2 = {n1%n2}')\n",
        "else:\n",
        "  print('Error')\n"
      ]
    }
  ],
  "metadata": {
    "colab": {
      "provenance": [],
      "authorship_tag": "ABX9TyN1OLnbDp/gCQBA6YGWQv8Y",
      "include_colab_link": true
    },
    "kernelspec": {
      "display_name": "Python 3",
      "name": "python3"
    },
    "language_info": {
      "name": "python"
    }
  },
  "nbformat": 4,
  "nbformat_minor": 0
}