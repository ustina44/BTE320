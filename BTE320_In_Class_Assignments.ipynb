{
  "cells": [
    {
      "cell_type": "markdown",
      "metadata": {
        "id": "view-in-github",
        "colab_type": "text"
      },
      "source": [
        "<a href=\"https://colab.research.google.com/github/ustina44/BTE320/blob/main/BTE320_In_Class_Assignments.ipynb\" target=\"_parent\"><img src=\"https://colab.research.google.com/assets/colab-badge.svg\" alt=\"Open In Colab\"/></a>"
      ]
    },
    {
      "cell_type": "code",
      "execution_count": null,
      "metadata": {
        "id": "PXwATtLCyh3I"
      },
      "outputs": [],
      "source": []
    },
    {
      "cell_type": "markdown",
      "metadata": {
        "id": "kT9lP4CTymNN"
      },
      "source": [
        "8/27\n",
        "\n",
        "Surface area of a cylinder"
      ]
    },
    {
      "cell_type": "code",
      "execution_count": null,
      "metadata": {
        "colab": {
          "base_uri": "https://localhost:8080/"
        },
        "id": "LsZId9nEy0bt",
        "outputId": "68eed477-f90b-41da-860b-d09e8d024729"
      },
      "outputs": [
        {
          "name": "stdout",
          "output_type": "stream",
          "text": [
            "244.92000000000002\n"
          ]
        }
      ],
      "source": [
        "r = 3\n",
        "h = 10\n",
        "pi = 3.14\n",
        "\n",
        "area = 2 * pi * r ** 2 + 2 * pi * r * h\n",
        "print(area)"
      ]
    },
    {
      "cell_type": "markdown",
      "metadata": {
        "id": "0okeNGgdSgJA"
      },
      "source": [
        "9/5\n",
        "\n",
        "Game of rock, paper, scissors"
      ]
    },
    {
      "cell_type": "code",
      "execution_count": null,
      "metadata": {
        "colab": {
          "base_uri": "https://localhost:8080/"
        },
        "id": "_k9TQRRkSsLc",
        "outputId": "67d1693d-5d17-4fd7-8e09-8495fdc076c5"
      },
      "outputs": [
        {
          "name": "stdout",
          "output_type": "stream",
          "text": [
            "Choose rock, paper, scissors:r\n",
            "Choose rock, paper, scissors:s\n",
            "P1 wins\n"
          ]
        }
      ],
      "source": [
        "p1 = input('Choose rock, paper, scissors:')\n",
        "p2 = input('Choose rock, paper, scissors:')\n",
        "\n",
        "if (p1==p2):\n",
        "  print ('Draw')\n",
        "elif(p1 =='r' and p2 == 's') or (p1 == 's' and p2 == 'p') or (p1 == 'p' and p2 == 'r'):\n",
        "  print('P1 wins')\n",
        "elif(p1 == 's' and p2 == 'r') or (p1 == 'p' and p2 == 's') or (p1 == 'r' and p2 == 'p'):\n",
        "  print('P2 wins')\n"
      ]
    },
    {
      "cell_type": "code",
      "execution_count": null,
      "metadata": {
        "colab": {
          "base_uri": "https://localhost:8080/"
        },
        "id": "m-ObrDaz3gdB",
        "outputId": "c8bb8161-7b07-4427-f13c-e9b067726045"
      },
      "outputs": [
        {
          "name": "stdout",
          "output_type": "stream",
          "text": [
            "Choose rock, paper, scissors:r\n",
            "Choose rock, paper, scissors:s\n",
            "P1 wins\n"
          ]
        }
      ],
      "source": [
        "p1 = input('Choose rock, paper, scissors:')\n",
        "p2 = input('Choose rock, paper, scissors:')\n",
        "\n",
        "if (p1==p2):\n",
        "  print ('Draw')\n",
        "elif(p1 =='r' and p2 == 's') or (p1 == 's' and p2 == 'p') or (p1 == 'p' and p2 == 'r'):\n",
        "  print('P1 wins')\n",
        "else:\n",
        "  print('P2 wins')"
      ]
    },
    {
      "cell_type": "code",
      "source": [
        "c = input('Do you want to play a game? ')\n",
        "\n",
        "while c == 'yes':\n",
        "  p1 = input('Choose rock, paper, scissors: ')\n",
        "  p2 = input('Choose rock, paper, scissors: ')\n",
        "\n",
        "  if (p1==p2):\n",
        "    print ('Draw')\n",
        "  elif(p1 =='r' and p2 == 's') or (p1 == 's' and p2 == 'p') or (p1 == 'p' and p2 == 'r'):\n",
        "    print('P1 wins')\n",
        "  else:\n",
        "    print('P2 wins')\n",
        "\n",
        "  c = input('Do you want to play a game? ')"
      ],
      "metadata": {
        "colab": {
          "base_uri": "https://localhost:8080/"
        },
        "id": "RKzeNg8d9LIN",
        "outputId": "6d5b3ba1-1a1f-4a6e-fc7b-84b855b715bf"
      },
      "execution_count": null,
      "outputs": [
        {
          "name": "stdout",
          "output_type": "stream",
          "text": [
            "Do you want to play a game? yes\n",
            "Choose rock, paper, scissors: r\n",
            "Choose rock, paper, scissors: s\n",
            "P1 wins\n",
            "Do you want to play a game? no\n"
          ]
        }
      ]
    },
    {
      "cell_type": "markdown",
      "source": [
        "Writing a rock, paper, scissors game playing against computer"
      ],
      "metadata": {
        "id": "plsVK-n3DqTK"
      }
    },
    {
      "cell_type": "code",
      "source": [
        "import random\n",
        "\n",
        "c = input('Do you want to play a game? ')\n",
        "\n",
        "while c == 'yes':\n",
        "  p1 = input('Choose rock, paper, scissors: ')\n",
        "  p2 = random.choice(['rock','paper','scissors'])\n",
        "\n",
        "  print(f'Computer chose {p2}')\n",
        "\n",
        "  if (p1==p2):\n",
        "    print ('Draw')\n",
        "  elif(p1 =='r' and p2 == 's') or (p1 == 's' and p2 == 'p') or (p1 == 'p' and p2 == 'r'):\n",
        "    print('You win!')\n",
        "  else:\n",
        "    print('Computer wins!')\n",
        "\n",
        "  c = input('Do you want to play another game? ')\n",
        "print('Have a nice day!')"
      ],
      "metadata": {
        "colab": {
          "base_uri": "https://localhost:8080/"
        },
        "id": "CSEUs_XUCZyF",
        "outputId": "41a1b266-7b3d-4354-8212-709c6937a4ac"
      },
      "execution_count": null,
      "outputs": [
        {
          "output_type": "stream",
          "name": "stdout",
          "text": [
            "Do you want to play a game? yes\n",
            "Choose rock, paper, scissors: p\n",
            "Computer chose rock\n",
            "Computer wins!\n",
            "Do you want to play another game? no\n",
            "Have a nice day!\n"
          ]
        }
      ]
    },
    {
      "cell_type": "markdown",
      "metadata": {
        "id": "bJFRSa5R4pb-"
      },
      "source": [
        "9/10\n",
        "\n",
        "Creating a program that is a numerical calculator"
      ]
    },
    {
      "cell_type": "code",
      "execution_count": null,
      "metadata": {
        "colab": {
          "base_uri": "https://localhost:8080/"
        },
        "id": "2kWbnLij4snm",
        "outputId": "9ecc6705-7d1c-465f-eb8d-61eb211204aa"
      },
      "outputs": [
        {
          "output_type": "stream",
          "name": "stdout",
          "text": [
            "Input number:3\n",
            "Input number:4\n",
            "Choose operator (+, -, *, /, **, %): +\n",
            "n1 + n2 = 7.0\n"
          ]
        }
      ],
      "source": [
        "n1 = float(input('Input number:'))\n",
        "n2 = float(input('Input number:'))\n",
        "symbol = input('Choose operator (+, -, *, /, **, %): ')\n",
        "\n",
        "if(symbol == '+'):\n",
        "  print(f'n1 + n2 = {n1+n2}')\n",
        "elif(symbol == '-'):\n",
        "  print(f'n1 - n2 = {n1-n2}')\n",
        "elif(symbol == '/'):\n",
        "  print(f'n1 / n2 = {n1/n2}')\n",
        "elif(symbol == '*'):\n",
        "  print(f'n1 * n2 = {n1*n2}')\n",
        "elif(symbol == '//'):\n",
        "  print(f'n1 // n2 = {n1//n2}')\n",
        "elif(symbol == '**'):\n",
        "  print(f'n1 ** n2 = {n1**n2}')\n",
        "elif(symbol == '%'):\n",
        "  print(f'n1 % n2 = {n1%n2}')\n",
        "else:\n",
        "  print('Error')\n"
      ]
    },
    {
      "cell_type": "markdown",
      "source": [
        "9/17\n",
        "\n",
        "Parking garage problem"
      ],
      "metadata": {
        "id": "UsHWctCFDvZI"
      }
    },
    {
      "cell_type": "code",
      "source": [
        "flat = 5\n",
        "\n",
        "for t in range (1,9,1):\n",
        "  charge = flat + 2.5 * t\n",
        "  if charge < 10:\n",
        "    charge = 10\n",
        "  elif charge > 20:\n",
        "    charge = 20\n",
        "  print(t, charge)"
      ],
      "metadata": {
        "colab": {
          "base_uri": "https://localhost:8080/"
        },
        "id": "FLrVZBTTDzY6",
        "outputId": "2dbb8eb4-cffc-4535-f60c-a0aba80ce50f"
      },
      "execution_count": null,
      "outputs": [
        {
          "output_type": "stream",
          "name": "stdout",
          "text": [
            "1 10\n",
            "2 10.0\n",
            "3 12.5\n",
            "4 15.0\n",
            "5 17.5\n",
            "6 20.0\n",
            "7 20\n",
            "8 20\n"
          ]
        }
      ]
    },
    {
      "cell_type": "markdown",
      "source": [
        "9/19\n",
        "\n",
        "Movie theatre"
      ],
      "metadata": {
        "id": "11r5cmW7OjX7"
      }
    },
    {
      "cell_type": "code",
      "source": [
        "ticket = 10\n",
        "attendees = 20\n",
        "fixed_cost = 200\n",
        "\n",
        "for i in range(0,201,25):\n",
        "  profit = ticket * (attendees + 2 * round(i ** 0.5)) - fixed_cost - i\n",
        "  print(i, profit)"
      ],
      "metadata": {
        "colab": {
          "base_uri": "https://localhost:8080/"
        },
        "id": "XocRJCUaROVG",
        "outputId": "d7bf5c67-b075-4eec-863d-8cf4c93fa25b"
      },
      "execution_count": null,
      "outputs": [
        {
          "output_type": "stream",
          "name": "stdout",
          "text": [
            "0 0\n",
            "25 75\n",
            "50 90\n",
            "75 105\n",
            "100 100\n",
            "125 95\n",
            "150 90\n",
            "175 85\n",
            "200 80\n"
          ]
        }
      ]
    },
    {
      "cell_type": "markdown",
      "source": [
        "9/26\n",
        "\n",
        "User program to add numbers to a list and stop when user enters zero"
      ],
      "metadata": {
        "id": "foEdGxVuVzE7"
      }
    },
    {
      "cell_type": "code",
      "source": [
        "numbers = []\n",
        "\n",
        "while True:\n",
        "  L = input('Enter number: ')\n",
        "  if L == '0':\n",
        "    break\n",
        "  else:\n",
        "    numbers.append(int(L))\n",
        "\n",
        "print(numbers)"
      ],
      "metadata": {
        "colab": {
          "base_uri": "https://localhost:8080/"
        },
        "id": "skVkpTMBV3cg",
        "outputId": "5480d46d-c822-4ace-878c-67937e9e2e3f"
      },
      "execution_count": null,
      "outputs": [
        {
          "output_type": "stream",
          "name": "stdout",
          "text": [
            "Enter number: 4\n",
            "Enter number: 4\n",
            "Enter number: 0\n",
            "[4, 4]\n"
          ]
        }
      ]
    },
    {
      "cell_type": "markdown",
      "source": [
        "10/1\n",
        "\n",
        "Assigning numbers to names of months"
      ],
      "metadata": {
        "id": "vr0L4yHpFnTN"
      }
    },
    {
      "cell_type": "code",
      "source": [
        "months = {}\n",
        "\n",
        "names = ['Jan', 'Feb', 'Mar', 'Apr', 'May', 'Jun', 'Jul', 'Aug', 'Sep', 'Oct', 'Nov', 'Dec']\n",
        "numbers = [1, 2, 3, 4, 5, 6, 7, 8, 9, 10, 11, 12]\n",
        "\n",
        "for i in range(len(numbers)):\n",
        "  months[numbers[i]] = names[i]\n",
        "\n",
        "months"
      ],
      "metadata": {
        "colab": {
          "base_uri": "https://localhost:8080/"
        },
        "id": "N23-7IygLAT5",
        "outputId": "b477a482-2af2-4d35-ebe3-00f7b2368786"
      },
      "execution_count": null,
      "outputs": [
        {
          "output_type": "execute_result",
          "data": {
            "text/plain": [
              "{1: 'Jan',\n",
              " 2: 'Feb',\n",
              " 3: 'Mar',\n",
              " 4: 'Apr',\n",
              " 5: 'May',\n",
              " 6: 'Jun',\n",
              " 7: 'Jul',\n",
              " 8: 'Aug',\n",
              " 9: 'Sep',\n",
              " 10: 'Oct',\n",
              " 11: 'Nov',\n",
              " 12: 'Dec'}"
            ]
          },
          "metadata": {},
          "execution_count": 44
        }
      ]
    }
  ],
  "metadata": {
    "colab": {
      "provenance": [],
      "authorship_tag": "ABX9TyNf2fn2R6UZVgTFTv4jv1zQ",
      "include_colab_link": true
    },
    "kernelspec": {
      "display_name": "Python 3",
      "name": "python3"
    },
    "language_info": {
      "name": "python"
    }
  },
  "nbformat": 4,
  "nbformat_minor": 0
}