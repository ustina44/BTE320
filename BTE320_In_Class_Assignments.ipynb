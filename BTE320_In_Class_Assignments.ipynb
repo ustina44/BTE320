{
  "nbformat": 4,
  "nbformat_minor": 0,
  "metadata": {
    "colab": {
      "provenance": [],
      "authorship_tag": "ABX9TyNXlIR1SCQPZy6CoqVu+5ew",
      "include_colab_link": true
    },
    "kernelspec": {
      "name": "python3",
      "display_name": "Python 3"
    },
    "language_info": {
      "name": "python"
    }
  },
  "cells": [
    {
      "cell_type": "markdown",
      "metadata": {
        "id": "view-in-github",
        "colab_type": "text"
      },
      "source": [
        "<a href=\"https://colab.research.google.com/github/ustina44/BTE320/blob/main/BTE320_In_Class_Assignments.ipynb\" target=\"_parent\"><img src=\"https://colab.research.google.com/assets/colab-badge.svg\" alt=\"Open In Colab\"/></a>"
      ]
    },
    {
      "cell_type": "code",
      "execution_count": null,
      "metadata": {
        "id": "PXwATtLCyh3I"
      },
      "outputs": [],
      "source": []
    },
    {
      "cell_type": "markdown",
      "source": [
        "8/27\n",
        "\n",
        "Surface area of a cylinder: 2pir^2 + 2pirh\n",
        "\n"
      ],
      "metadata": {
        "id": "kT9lP4CTymNN"
      }
    },
    {
      "cell_type": "code",
      "source": [
        "r = 3\n",
        "h = 10\n",
        "pi = 3.14\n",
        "\n",
        "area = 2 * pi * r ** 2 + 2 * pi * r * h\n",
        "print(area)"
      ],
      "metadata": {
        "colab": {
          "base_uri": "https://localhost:8080/"
        },
        "id": "LsZId9nEy0bt",
        "outputId": "68eed477-f90b-41da-860b-d09e8d024729"
      },
      "execution_count": null,
      "outputs": [
        {
          "output_type": "stream",
          "name": "stdout",
          "text": [
            "244.92000000000002\n"
          ]
        }
      ]
    },
    {
      "cell_type": "markdown",
      "source": [
        "9/5 and 9/10\n",
        "\n",
        "Designing a game of rock, paper, scissors"
      ],
      "metadata": {
        "id": "0okeNGgdSgJA"
      }
    },
    {
      "cell_type": "code",
      "source": [
        "p1 = input('Choose rock, paper, scissors:')\n",
        "p2 = input('Choose rock, paper, scissors:')\n",
        "\n",
        "if (p1==p2):\n",
        "  print ('Draw')\n",
        "elif(p1 =='r' and p2 == 's') or (p1 == 's' and p2 == 'p') or (p1 == 'p' and p2 == 'r'):\n",
        "  print('P1 wins')\n",
        "elif(p1 == 's' and p2 == 'r') or (p1 == 'p' and p2 == 's') or (p1 == 'r' and p2 == 'p'):\n",
        "  print('P2 wins')\n"
      ],
      "metadata": {
        "colab": {
          "base_uri": "https://localhost:8080/"
        },
        "id": "_k9TQRRkSsLc",
        "outputId": "67d1693d-5d17-4fd7-8e09-8495fdc076c5"
      },
      "execution_count": null,
      "outputs": [
        {
          "output_type": "stream",
          "name": "stdout",
          "text": [
            "Choose rock, paper, scissors:r\n",
            "Choose rock, paper, scissors:s\n",
            "P1 wins\n"
          ]
        }
      ]
    },
    {
      "cell_type": "code",
      "source": [
        "p1 = input('Choose rock, paper, scissors:')\n",
        "p2 = input('Choose rock, paper, scissors:')\n",
        "\n",
        "if (p1==p2):\n",
        "  print ('Draw')\n",
        "elif(p1 =='r' and p2 == 's') or (p1 == 's' and p2 == 'p') or (p1 == 'p' and p2 == 'r'):\n",
        "  print('P1 wins')\n",
        "else:\n",
        "  print('P2 wins')"
      ],
      "metadata": {
        "colab": {
          "base_uri": "https://localhost:8080/"
        },
        "id": "m-ObrDaz3gdB",
        "outputId": "c8bb8161-7b07-4427-f13c-e9b067726045"
      },
      "execution_count": null,
      "outputs": [
        {
          "output_type": "stream",
          "name": "stdout",
          "text": [
            "Choose rock, paper, scissors:r\n",
            "Choose rock, paper, scissors:s\n",
            "P1 wins\n"
          ]
        }
      ]
    },
    {
      "cell_type": "markdown",
      "source": [
        "[date]"
      ],
      "metadata": {
        "id": "bJFRSa5R4pb-"
      }
    },
    {
      "cell_type": "code",
      "source": [],
      "metadata": {
        "id": "2kWbnLij4snm"
      },
      "execution_count": null,
      "outputs": []
    }
  ]
}